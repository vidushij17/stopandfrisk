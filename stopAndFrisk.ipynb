{
 "cells": [
  {
   "cell_type": "code",
   "execution_count": null,
   "metadata": {},
   "outputs": [
    {
     "ename": "",
     "evalue": "",
     "output_type": "error",
     "traceback": [
      "\u001b[1;31mRunning cells with 'Python 3.13.0' requires the ipykernel package.\n",
      "\u001b[1;31mRun the following command to install 'ipykernel' into the Python environment. \n",
      "\u001b[1;31mCommand: '/opt/homebrew/bin/python3 -m pip install ipykernel -U --user --force-reinstall'"
     ]
    }
   ],
   "source": [
    "import sqlite3\n",
    "import pandas as pd\n",
    "\n",
    "# Step 1: Load CSV into a DataFrame\n",
    "csv_file = \"sqf-2023.csv\"\n",
    "df = pd.read_csv(csv_file)\n",
    "\n",
    "# Step 2: Create an SQLite database in memory\n",
    "conn = sqlite3.connect(\":memory:\")  # Use \":memory:\" for a temporary in-memory database\n",
    "df.to_sql(\"my_table\", conn, index=False, if_exists=\"replace\")  # Save DataFrame to SQLite table\n",
    "\n",
    "# Step 3: Query the data using SQL\n",
    "query = \"SELECT * FROM my_table LIMIT 10;\"  # Example query\n",
    "result = pd.read_sql_query(query, conn)\n",
    "\n",
    "# Step 4: Display the result\n",
    "print(result)\n",
    "\n",
    "# Close the connection when done\n",
    "conn.close()\n"
   ]
  },
  {
   "cell_type": "code",
   "execution_count": null,
   "metadata": {},
   "outputs": [],
   "source": []
  }
 ],
 "metadata": {
  "kernelspec": {
   "display_name": "Python 3",
   "language": "python",
   "name": "python3"
  },
  "language_info": {
   "name": "python",
   "version": "3.13.0"
  }
 },
 "nbformat": 4,
 "nbformat_minor": 2
}
