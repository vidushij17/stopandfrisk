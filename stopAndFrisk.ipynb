{
 "cells": [
  {
   "cell_type": "code",
   "execution_count": 21,
   "metadata": {},
   "outputs": [
    {
     "name": "stdout",
     "output_type": "stream",
     "text": [
      "columns removed(36):\n",
      "['JURISDICTION_CODE', 'JURISDICTION_DESCRIPTION', 'OFFICER_NOT_EXPLAINED_STOP_DESCRIPTION', 'SUSPECT_ARREST_OFFENSE', 'SUMMONS_OFFENSE_DESCRIPTION', 'ID_CARD_IDENTIFIES_OFFICER_FLAG', 'SHIELD_IDENTIFIES_OFFICER_FLAG', 'VERBAL_IDENTIFIES_OFFICER_FLAG', 'FIREARM_FLAG', 'KNIFE_CUTTER_FLAG', 'OTHER_WEAPON_FLAG', 'PHYSICAL_FORCE_CEW_FLAG', 'PHYSICAL_FORCE_DRAW_POINT_FIREARM_FLAG', 'PHYSICAL_FORCE_HANDCUFF_SUSPECT_FLAG', 'PHYSICAL_FORCE_OC_SPRAY_USED_FLAG', 'PHYSICAL_FORCE_OTHER_FLAG', 'PHYSICAL_FORCE_RESTRAINT_USED_FLAG', 'PHYSICAL_FORCE_WEAPON_IMPACT_FLAG', 'BACKROUND_CIRCUMSTANCES_VIOLENT_CRIME_FLAG', 'BACKROUND_CIRCUMSTANCES_SUSPECT_KNOWN_TO_CARRY_WEAPON_FLAG', 'SUSPECTS_ACTIONS_CASING_FLAG', 'SUSPECTS_ACTIONS_CONCEALED_POSSESSION_WEAPON_FLAG', 'SUSPECTS_ACTIONS_DECRIPTION_FLAG', 'SUSPECTS_ACTIONS_DRUG_TRANSACTIONS_FLAG', 'SUSPECTS_ACTIONS_IDENTIFY_CRIME_PATTERN_FLAG', 'SUSPECTS_ACTIONS_LOOKOUT_FLAG', 'SUSPECTS_ACTIONS_OTHER_FLAG', 'SUSPECTS_ACTIONS_PROXIMITY_TO_SCENE_FLAG', 'SEARCH_BASIS_ADMISSION_FLAG', 'SEARCH_BASIS_CONSENT_FLAG', 'SEARCH_BASIS_HARD_OBJECT_FLAG', 'SEARCH_BASIS_INCIDENTAL_TO_ARREST_FLAG', 'SEARCH_BASIS_OTHER_FLAG', 'SEARCH_BASIS_OUTLINE_FLAG', 'SUSPECT_OTHER_DESCRIPTION', 'STOP_LOCATION_APARTMENT']\n",
      "82\n",
      "46\n",
      "['STOP_ID', 'STOP_FRISK_DATE', 'STOP_FRISK_TIME', 'YEAR2', 'MONTH2', 'DAY2', 'STOP_WAS_INITIATED', 'RECORD_STATUS_CODE', 'ISSUING_OFFICER_RANK', 'ISSUING_OFFICER_COMMAND_CODE', 'SUPERVISING_OFFICER_RANK', 'SUPERVISING_OFFICER_COMMAND_CODE', 'SUPERVISING_ACTION_CORRESPONDING_ACTIVITY_LOG_ENTRY_REVIEWED', 'LOCATION_IN_OUT_CODE', 'OBSERVED_DURATION_MINUTES', 'SUSPECTED_CRIME_DESCRIPTION', 'STOP_DURATION_MINUTES', 'OFFICER_EXPLAINED_STOP_FLAG', 'OTHER_PERSON_STOPPED_FLAG', 'SUSPECT_ARRESTED_FLAG', 'SUMMONS_ISSUED_FLAG', 'OFFICER_IN_UNIFORM_FLAG', 'FRISKED_FLAG', 'SEARCHED_FLAG', 'ASK_FOR_CONSENT_FLG', 'CONSENT_GIVEN_FLG', 'OTHER_CONTRABAND_FLAG', 'WEAPON_FOUND_FLAG', 'PHYSICAL_FORCE_VERBAL_INSTRUCTION_FLAG', 'DEMEANOR_OF_PERSON_STOPPED', 'SUSPECT_REPORTED_AGE', 'SUSPECT_SEX', 'SUSPECT_RACE_DESCRIPTION', 'SUSPECT_HEIGHT', 'SUSPECT_WEIGHT', 'SUSPECT_BODY_BUILD_TYPE', 'SUSPECT_EYE_COLOR', 'SUSPECT_HAIR_COLOR', 'STOP_LOCATION_PRECINCT', 'STOP_LOCATION_SECTOR_CODE', 'STOP_LOCATION_FULL_ADDRESS', 'STOP_LOCATION_STREET_NAME', 'STOP_LOCATION_X', 'STOP_LOCATION_Y', 'STOP_LOCATION_PATROL_BORO_NAME', 'STOP_LOCATION_BORO_NAME']\n"
     ]
    }
   ],
   "source": [
    "import pandas as pd\n",
    "\n",
    "df = pd.read_csv(\"sqf-2023.csv\", na_values=\"(null)\", low_memory=False)\n",
    "\n",
    "threshold = 0.4 * len(df)\n",
    "\n",
    "columns_to_remove = df.columns[df.isnull().sum() > threshold]\n",
    "\n",
    "df_cleaned = df.loc[:, df.isnull().sum() <= threshold]\n",
    "\n",
    "df_cleaned.to_csv(\"sqf-2023-cleaned.csv\", index=False)\n",
    "\n",
    "# Print the results\n",
    "print(f\"columns removed({len(columns_to_remove)}):\")\n",
    "print(columns_to_remove.tolist())\n",
    "\n",
    "print(len(df.columns))\n",
    "print(len(df_cleaned.columns))\n",
    "print(df_cleaned.columns.tolist())"
   ]
  },
  {
   "cell_type": "code",
   "execution_count": 22,
   "metadata": {},
   "outputs": [
    {
     "name": "stderr",
     "output_type": "stream",
     "text": [
      "/var/folders/my/mt8npr5n1tx6kxqgbd6_81km0000gn/T/ipykernel_33052/477796308.py:9: FutureWarning: A value is trying to be set on a copy of a DataFrame or Series through chained assignment using an inplace method.\n",
      "The behavior will change in pandas 3.0. This inplace method will never work because the intermediate object on which we are setting values always behaves as a copy.\n",
      "\n",
      "For example, when doing 'df[col].method(value, inplace=True)', try using 'df.method({col: value}, inplace=True)' or df[col] = df[col].method(value) instead, to perform the operation inplace on the original object.\n",
      "\n",
      "\n",
      "  df_cleaned[col].fillna(mean_value, inplace=True)\n",
      "/var/folders/my/mt8npr5n1tx6kxqgbd6_81km0000gn/T/ipykernel_33052/477796308.py:14: FutureWarning: A value is trying to be set on a copy of a DataFrame or Series through chained assignment using an inplace method.\n",
      "The behavior will change in pandas 3.0. This inplace method will never work because the intermediate object on which we are setting values always behaves as a copy.\n",
      "\n",
      "For example, when doing 'df[col].method(value, inplace=True)', try using 'df.method({col: value}, inplace=True)' or df[col] = df[col].method(value) instead, to perform the operation inplace on the original object.\n",
      "\n",
      "\n",
      "  df_cleaned[col].fillna(mode[0], inplace=True)\n"
     ]
    }
   ],
   "source": [
    "import pandas as pd\n",
    "\n",
    "df_cleaned = pd.read_csv(\"sqf-2023-cleaned.csv\", na_values=[\"(null)\", \"\"], low_memory=False)\n",
    "\n",
    "for col in df_cleaned.columns:\n",
    "    if pd.api.types.is_numeric_dtype(df_cleaned[col]):\n",
    "        # mean for numerical columns\n",
    "        mean_value = df_cleaned[col].mean()\n",
    "        df_cleaned[col].fillna(mean_value, inplace=True)\n",
    "    else:\n",
    "        # mode for categorical columns\n",
    "        mode = df_cleaned[col].mode()\n",
    "        if not mode.empty:\n",
    "            df_cleaned[col].fillna(mode[0], inplace=True)\n",
    "\n",
    "df_cleaned.to_csv(\"sqf-2023-cleaned.csv\", index=False)"
   ]
  },
  {
   "cell_type": "code",
   "execution_count": 23,
   "metadata": {},
   "outputs": [
    {
     "name": "stdout",
     "output_type": "stream",
     "text": [
      "Total '(null)' or empty cells: 0\n"
     ]
    }
   ],
   "source": [
    "\n",
    "df = pd.read_csv(\"sqf-2023-cleaned.csv\", na_values=[\"(null)\", \"\"], low_memory=False)\n",
    "\n",
    "total_null_or_empty = df.isnull().sum().sum()\n",
    "\n",
    "print(f\"Total '(null)' or empty cells: {total_null_or_empty}\")"
   ]
  }
 ],
 "metadata": {
  "kernelspec": {
   "display_name": "stopandfrisk",
   "language": "python",
   "name": "python3"
  },
  "language_info": {
   "codemirror_mode": {
    "name": "ipython",
    "version": 3
   },
   "file_extension": ".py",
   "mimetype": "text/x-python",
   "name": "python",
   "nbconvert_exporter": "python",
   "pygments_lexer": "ipython3",
   "version": "3.13.0"
  }
 },
 "nbformat": 4,
 "nbformat_minor": 4
}
