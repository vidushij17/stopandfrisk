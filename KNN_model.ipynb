{
 "cells": [
  {
   "cell_type": "code",
   "execution_count": null,
   "id": "b5f74b51-e97f-44e9-a969-d364a4324408",
   "metadata": {},
   "outputs": [],
   "source": [
    "#model KNN\n",
    "\n",
    "from sklearn.model_selection import train_test_split\n",
    "from sklearn.preprocessing import StandardScaler, OneHotEncoder\n",
    "from sklearn.neighbors import KNeighborsClassifier\n",
    "from sklearn.metrics import accuracy_score, confusion_matrix\n",
    "from sklearn.metrics import classification_report, roc_auc_score\n",
    "import pandas as pd\n",
    "\n",
    "Y = df_cleaned['FRISKED_AND_ARRESTED']\n",
    "\n",
    "X = df_cleaned[[\n",
    "    'AGE_GROUP_18-30', \n",
    "    'AGE_GROUP_31-45',\n",
    "    'AGE_GROUP_46-60', \n",
    "    'AGE_GROUP_60+', \n",
    "    'SUSPECT_SEX_FEMALE',\n",
    "    'SUSPECT_SEX_MALE',\n",
    "    'SUSPECT_RACE_DESCRIPTION_AMERICAN INDIAN/ALASKAN NATIVE',\n",
    "    'SUSPECT_RACE_DESCRIPTION_ASIAN / PACIFIC ISLANDER',\n",
    "    'SUSPECT_RACE_DESCRIPTION_BLACK',\n",
    "    'SUSPECT_RACE_DESCRIPTION_BLACK HISPANIC',\n",
    "    'SUSPECT_RACE_DESCRIPTION_MIDDLE EASTERN/SOUTHWEST ASIAN',\n",
    "    'SUSPECT_RACE_DESCRIPTION_WHITE',\n",
    "    'SUSPECT_RACE_DESCRIPTION_WHITE HISPANIC',\n",
    "    'TIME_OF_DAY_Evening',\n",
    "    'TIME_OF_DAY_Morning', \n",
    "    'TIME_OF_DAY_Night',\n",
    "    'STOP_DURATION_MINUTES',\n",
    "    'STOP_LOCATION_BORO_NAME_BRONX',\n",
    "    'STOP_LOCATION_BORO_NAME_BROOKLYN',\n",
    "    'STOP_LOCATION_BORO_NAME_MANHATTAN',\n",
    "    'STOP_LOCATION_BORO_NAME_QUEENS',\n",
    "    'STOP_LOCATION_BORO_NAME_STATEN ISLAND',\n",
    "    'OFFICER_EXPLAINED_STOP_FLAG',\n",
    "    'OFFICER_IN_UNIFORM_FLAG',\n",
    "    'OTHER_PERSON_STOPPED_FLAG',\n",
    "    'DEMEANOR_SCORE',\n",
    "    'COMPLIANCE_SCORE',\n",
    "    'SUSPECTED_CRIME_DESCRIPTION_ASSAULT',\n",
    "    'SUSPECTED_CRIME_DESCRIPTION_AUTO STRIPPIG',\n",
    "    'SUSPECTED_CRIME_DESCRIPTION_BURGLARY',\n",
    "    'SUSPECTED_CRIME_DESCRIPTION_CPSP',\n",
    "    'SUSPECTED_CRIME_DESCRIPTION_CPW',\n",
    "    'SUSPECTED_CRIME_DESCRIPTION_CRIMINAL MISCHIEF',\n",
    "    'SUSPECTED_CRIME_DESCRIPTION_CRIMINAL POSSESSION OF CONTROLLED SUBSTANCE',\n",
    "    'SUSPECTED_CRIME_DESCRIPTION_CRIMINAL POSSESSION OF FORGED INSTRUMENT',\n",
    "    'SUSPECTED_CRIME_DESCRIPTION_CRIMINAL SALE OF CONTROLLED SUBSTANCE',\n",
    "    'SUSPECTED_CRIME_DESCRIPTION_CRIMINAL SALE OF MARIHUANA',\n",
    "    'SUSPECTED_CRIME_DESCRIPTION_CRIMINAL TRESPASS',\n",
    "    'SUSPECTED_CRIME_DESCRIPTION_FORCIBLE TOUCHING',\n",
    "    'SUSPECTED_CRIME_DESCRIPTION_GRAND LARCENY',\n",
    "    'SUSPECTED_CRIME_DESCRIPTION_GRAND LARCENY AUTO',\n",
    "    'SUSPECTED_CRIME_DESCRIPTION_MAKING GRAFFITI',\n",
    "    'SUSPECTED_CRIME_DESCRIPTION_MENACING',\n",
    "    'SUSPECTED_CRIME_DESCRIPTION_MURDER',\n",
    "    'SUSPECTED_CRIME_DESCRIPTION_OTHER',\n",
    "    'SUSPECTED_CRIME_DESCRIPTION_PETIT LARCENY',\n",
    "    'SUSPECTED_CRIME_DESCRIPTION_RAPE',\n",
    "    'SUSPECTED_CRIME_DESCRIPTION_RECKLESS ENDANGERMENT',\n",
    "    'SUSPECTED_CRIME_DESCRIPTION_ROBBERY',\n",
    "    'SUSPECTED_CRIME_DESCRIPTION_TERRORISM',\n",
    "    'SUSPECTED_CRIME_DESCRIPTION_THEFT OF SERVICES',\n",
    "    'SUSPECTED_CRIME_DESCRIPTION_UNAUTHORIZED USE OF A VEHICLE'\n",
    "]]"
   ]
  },
  {
   "cell_type": "code",
   "execution_count": null,
   "id": "42f348fe-86a5-4fd0-8fd5-221e1697f852",
   "metadata": {},
   "outputs": [],
   "source": [
    "X = X.loc[:, ~X.columns.duplicated()]\n",
    "# Train-test split\n",
    "X_train, X_test, Y_train, Y_test = train_test_split(X, Y, test_size=0.2, random_state=42)\n"
   ]
  },
  {
   "cell_type": "code",
   "execution_count": null,
   "id": "937e5360-4467-4f26-99e4-21ad9d1154d4",
   "metadata": {},
   "outputs": [],
   "source": [
    "# Checking for NaN values and locations\n",
    "print(X.isnull().sum())\n",
    "\n",
    "if X.isnull().any().any():\n",
    "    print(X[X.isnull().any(axis=1)])"
   ]
  },
  {
   "cell_type": "code",
   "execution_count": null,
   "id": "538765c8-a2e2-474b-93ac-479d82c80709",
   "metadata": {},
   "outputs": [],
   "source": [
    "scaler = StandardScaler()\n",
    "X_train_scaled = scaler.fit_transform(X_train)\n",
    "X_test_scaled = scaler.transform(X_test)\n",
    "# Initialize KNN with a chosen number of neighbors \n",
    "knn = KNeighborsClassifier(n_neighbors=24)\n",
    "#fitting model\n",
    "knn.fit(X_train_scaled, Y_train)\n",
    "Y_pred = knn.predict(X_test_scaled)"
   ]
  },
  {
   "cell_type": "code",
   "execution_count": null,
   "id": "6c1f40df-9da7-4bcf-b802-464a3c569a7e",
   "metadata": {},
   "outputs": [],
   "source": [
    "\n",
    "print(f\"Accuracy: {accuracy_score(Y_test, Y_pred):.2f}\")\n",
    "\n",
    "print(\"Confusion Matrix:\")\n",
    "print(confusion_matrix(Y_test, Y_pred))\n",
    "\n",
    "print(\"Classification Report:\")\n",
    "print(classification_report(Y_test, Y_pred))"
   ]
  },
  {
   "cell_type": "raw",
   "id": "edf66fb4-4fe3-481c-a35d-053d3ffcdc7a",
   "metadata": {},
   "source": [
    "Accuracy: 0.85\n",
    "Confusion Matrix:\n",
    "[[2878   12]\n",
    " [ 496    8]]\n",
    "Classification Report:\n",
    "              precision    recall  f1-score   support\n",
    "\n",
    "           0       0.85      1.00      0.92      2890\n",
    "           1       0.40      0.02      0.03       504\n",
    "\n",
    "    accuracy                           0.85      3394\n",
    "   macro avg       0.63      0.51      0.47      3394\n",
    "weighted avg       0.79      0.85      0.79      3394\n"
   ]
  },
  {
   "cell_type": "code",
   "execution_count": null,
   "id": "94303005-c65c-452a-933f-43899bec3129",
   "metadata": {},
   "outputs": [],
   "source": [
    "# Loop to find the best k\n",
    "accuracies = []\n",
    "for k in range(1, 41):  # Test k from 1 to 20\n",
    "    knn = KNeighborsClassifier(n_neighbors=k)\n",
    "    knn.fit(X_train_scaled, Y_train)\n",
    "    Y_pred = knn.predict(X_test_scaled)\n",
    "    accuracies.append(accuracy_score(Y_test, Y_pred))\n",
    "\n",
    "import matplotlib.pyplot as plt\n",
    "plt.plot(range(1, 41), accuracies)\n",
    "plt.xlabel('k')\n",
    "plt.ylabel('Accuracy')\n",
    "plt.title('Choosing the Best k')\n",
    "plt.show()"
   ]
  },
  {
   "cell_type": "code",
   "execution_count": null,
   "id": "8f648312-100b-417a-990f-7d6a48bef3e6",
   "metadata": {},
   "outputs": [],
   "source": [
    "from sklearn.metrics import roc_curve, auc\n",
    "\n",
    "# Compute probabilities and ROC curve\n",
    "Y_prob = knn.predict_proba(X_test)[:, 1]  # positive \n",
    "fpr, tpr, _ = roc_curve(Y_test, Y_prob)\n",
    "roc_auc = auc(fpr, tpr)\n",
    "\n",
    "plt.figure(figsize=(8, 6))\n",
    "plt.plot(fpr, tpr, color=\"blue\", label=f\"ROC Curve (AUC = {roc_auc:.2f})\")\n",
    "plt.plot([0, 1], [0, 1], color=\"red\", linestyle=\"--\")\n",
    "plt.title(\"ROC Curve\")\n",
    "plt.xlabel(\"False Positive Rate\")\n",
    "plt.ylabel(\"True Positive Rate\")\n",
    "plt.legend(loc=\"lower right\")\n",
    "plt.show()"
   ]
  }
 ],
 "metadata": {
  "kernelspec": {
   "display_name": "Python 3 (ipykernel)",
   "language": "python",
   "name": "python3"
  },
  "language_info": {
   "codemirror_mode": {
    "name": "ipython",
    "version": 3
   },
   "file_extension": ".py",
   "mimetype": "text/x-python",
   "name": "python",
   "nbconvert_exporter": "python",
   "pygments_lexer": "ipython3",
   "version": "3.12.2"
  }
 },
 "nbformat": 4,
 "nbformat_minor": 5
}
